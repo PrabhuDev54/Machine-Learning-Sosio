{
 "cells": [
  {
   "cell_type": "code",
   "execution_count": 2,
   "metadata": {},
   "outputs": [
    {
     "name": "stdout",
     "output_type": "stream",
     "text": [
      "Collecting mysql-connector-python\n",
      "\u001b[?25l  Downloading https://files.pythonhosted.org/packages/40/f5/55dd794bb70a9b73510454ac3fb57c27450d70eaf5811f4fb618b80bcace/mysql_connector_python-8.0.16-cp36-cp36m-manylinux1_x86_64.whl (13.0MB)\n",
      "\u001b[K    100% |████████████████████████████████| 13.0MB 1.0MB/s ta 0:00:01    86% |███████████████████████████▋    | 11.2MB 1.5MB/s eta 0:00:02    88% |████████████████████████████▍   | 11.5MB 1.2MB/s eta 0:00:02\n",
      "\u001b[?25hRequirement already satisfied: protobuf>=3.0.0 in ./anaconda3/lib/python3.6/site-packages (from mysql-connector-python) (3.6.1)\n",
      "Requirement already satisfied: six>=1.9 in ./anaconda3/lib/python3.6/site-packages (from protobuf>=3.0.0->mysql-connector-python) (1.11.0)\n",
      "Requirement already satisfied: setuptools in ./anaconda3/lib/python3.6/site-packages (from protobuf>=3.0.0->mysql-connector-python) (39.1.0)\n",
      "Installing collected packages: mysql-connector-python\n",
      "Successfully installed mysql-connector-python-8.0.16\n",
      "\u001b[33mYou are using pip version 19.0.2, however version 19.0.3 is available.\n",
      "You should consider upgrading via the 'pip install --upgrade pip' command.\u001b[0m\n"
     ]
    }
   ],
   "source": [
    "! pip install mysql-connector-python"
   ]
  },
  {
   "cell_type": "code",
   "execution_count": 60,
   "metadata": {},
   "outputs": [
    {
     "name": "stdout",
     "output_type": "stream",
     "text": [
      "<mysql.connector.connection_cext.CMySQLConnection object at 0x7fe3549a4470>\n"
     ]
    }
   ],
   "source": [
    "import mysql.connector\n",
    "conn = mysql.connector.connect(\n",
    "         user='foouser',\n",
    "         password='F88Pa%%**',\n",
    "         host='134.209.144.239',\n",
    "         database='stocksdb')\n",
    "print(conn)"
   ]
  },
  {
   "cell_type": "code",
   "execution_count": 61,
   "metadata": {},
   "outputs": [
    {
     "name": "stdout",
     "output_type": "stream",
     "text": [
      "stocksdb\n"
     ]
    }
   ],
   "source": [
    "print(conn.database)"
   ]
  },
  {
   "cell_type": "code",
   "execution_count": 62,
   "metadata": {},
   "outputs": [],
   "source": [
    "cursor = conn.cursor()"
   ]
  },
  {
   "cell_type": "code",
   "execution_count": 63,
   "metadata": {},
   "outputs": [],
   "source": [
    "cursor.execute(\"USE stocksdb\")"
   ]
  },
  {
   "cell_type": "code",
   "execution_count": 64,
   "metadata": {},
   "outputs": [],
   "source": [
    "cursor.execute(\"SHOW TABLES\")"
   ]
  },
  {
   "cell_type": "code",
   "execution_count": 65,
   "metadata": {},
   "outputs": [],
   "source": [
    "tables = cursor.fetchall() "
   ]
  },
  {
   "cell_type": "code",
   "execution_count": 82,
   "metadata": {},
   "outputs": [],
   "source": [
    "cursor.execute(\"select * from interview\")"
   ]
  },
  {
   "cell_type": "code",
   "execution_count": 52,
   "metadata": {},
   "outputs": [],
   "source": [
    "records = cursor.fetchall()"
   ]
  },
  {
   "cell_type": "code",
   "execution_count": 54,
   "metadata": {},
   "outputs": [
    {
     "data": {
      "text/plain": [
       "500000"
      ]
     },
     "execution_count": 54,
     "metadata": {},
     "output_type": "execute_result"
    }
   ],
   "source": [
    "len(records)"
   ]
  },
  {
   "cell_type": "code",
   "execution_count": 44,
   "metadata": {},
   "outputs": [
    {
     "data": {
      "text/plain": [
       "('isin',\n",
       " 'insertion_datetime',\n",
       " 'datetime',\n",
       " 'open',\n",
       " 'high',\n",
       " 'low',\n",
       " 'close',\n",
       " 'volume',\n",
       " 'open_interest')"
      ]
     },
     "execution_count": 44,
     "metadata": {},
     "output_type": "execute_result"
    }
   ],
   "source": [
    "cursor.column_names"
   ]
  },
  {
   "cell_type": "code",
   "execution_count": 46,
   "metadata": {},
   "outputs": [
    {
     "data": {
      "text/plain": [
       "[('isin', 253, None, None, None, None, 1, 0),\n",
       " ('insertion_datetime', 12, None, None, None, None, 1, 128),\n",
       " ('datetime', 12, None, None, None, None, 1, 128),\n",
       " ('open', 4, None, None, None, None, 1, 32768),\n",
       " ('high', 4, None, None, None, None, 1, 32768),\n",
       " ('low', 4, None, None, None, None, 1, 32768),\n",
       " ('close', 4, None, None, None, None, 1, 32768),\n",
       " ('volume', 3, None, None, None, None, 1, 32768),\n",
       " ('open_interest', 3, None, None, None, None, 1, 32768)]"
      ]
     },
     "execution_count": 46,
     "metadata": {},
     "output_type": "execute_result"
    }
   ],
   "source": [
    "cursor.description"
   ]
  },
  {
   "cell_type": "code",
   "execution_count": 55,
   "metadata": {},
   "outputs": [],
   "source": [
    "import pandas as pd"
   ]
  },
  {
   "cell_type": "code",
   "execution_count": 83,
   "metadata": {},
   "outputs": [],
   "source": [
    "df = pd.DataFrame(cursor.fetchall())\n",
    "df.columns =cursor.column_names"
   ]
  },
  {
   "cell_type": "code",
   "execution_count": 84,
   "metadata": {},
   "outputs": [
    {
     "data": {
      "text/html": [
       "<div>\n",
       "<style scoped>\n",
       "    .dataframe tbody tr th:only-of-type {\n",
       "        vertical-align: middle;\n",
       "    }\n",
       "\n",
       "    .dataframe tbody tr th {\n",
       "        vertical-align: top;\n",
       "    }\n",
       "\n",
       "    .dataframe thead th {\n",
       "        text-align: right;\n",
       "    }\n",
       "</style>\n",
       "<table border=\"1\" class=\"dataframe\">\n",
       "  <thead>\n",
       "    <tr style=\"text-align: right;\">\n",
       "      <th></th>\n",
       "      <th>isin</th>\n",
       "      <th>insertion_datetime</th>\n",
       "      <th>datetime</th>\n",
       "      <th>open</th>\n",
       "      <th>high</th>\n",
       "      <th>low</th>\n",
       "      <th>close</th>\n",
       "      <th>volume</th>\n",
       "      <th>open_interest</th>\n",
       "    </tr>\n",
       "  </thead>\n",
       "  <tbody>\n",
       "    <tr>\n",
       "      <th>0</th>\n",
       "      <td>INE545A01016</td>\n",
       "      <td>NaT</td>\n",
       "      <td>2018-01-01 09:15:00</td>\n",
       "      <td>2419.0</td>\n",
       "      <td>2436.00</td>\n",
       "      <td>2408.90</td>\n",
       "      <td>2435.25</td>\n",
       "      <td>10281</td>\n",
       "      <td>NaN</td>\n",
       "    </tr>\n",
       "    <tr>\n",
       "      <th>1</th>\n",
       "      <td>INE545A01016</td>\n",
       "      <td>NaT</td>\n",
       "      <td>2018-01-01 09:16:00</td>\n",
       "      <td>2435.0</td>\n",
       "      <td>2440.00</td>\n",
       "      <td>2426.45</td>\n",
       "      <td>2439.00</td>\n",
       "      <td>13315</td>\n",
       "      <td>NaN</td>\n",
       "    </tr>\n",
       "    <tr>\n",
       "      <th>2</th>\n",
       "      <td>INE545A01016</td>\n",
       "      <td>NaT</td>\n",
       "      <td>2018-01-01 09:17:00</td>\n",
       "      <td>2439.7</td>\n",
       "      <td>2439.70</td>\n",
       "      <td>2422.10</td>\n",
       "      <td>2424.95</td>\n",
       "      <td>3760</td>\n",
       "      <td>NaN</td>\n",
       "    </tr>\n",
       "    <tr>\n",
       "      <th>3</th>\n",
       "      <td>INE545A01016</td>\n",
       "      <td>NaT</td>\n",
       "      <td>2018-01-01 09:18:00</td>\n",
       "      <td>2420.0</td>\n",
       "      <td>2424.50</td>\n",
       "      <td>2386.50</td>\n",
       "      <td>2395.00</td>\n",
       "      <td>11653</td>\n",
       "      <td>NaN</td>\n",
       "    </tr>\n",
       "    <tr>\n",
       "      <th>4</th>\n",
       "      <td>INE545A01016</td>\n",
       "      <td>NaT</td>\n",
       "      <td>2018-01-01 09:19:00</td>\n",
       "      <td>2395.0</td>\n",
       "      <td>2413.95</td>\n",
       "      <td>2394.70</td>\n",
       "      <td>2409.85</td>\n",
       "      <td>7744</td>\n",
       "      <td>NaN</td>\n",
       "    </tr>\n",
       "  </tbody>\n",
       "</table>\n",
       "</div>"
      ],
      "text/plain": [
       "           isin insertion_datetime            datetime    open     high  \\\n",
       "0  INE545A01016                NaT 2018-01-01 09:15:00  2419.0  2436.00   \n",
       "1  INE545A01016                NaT 2018-01-01 09:16:00  2435.0  2440.00   \n",
       "2  INE545A01016                NaT 2018-01-01 09:17:00  2439.7  2439.70   \n",
       "3  INE545A01016                NaT 2018-01-01 09:18:00  2420.0  2424.50   \n",
       "4  INE545A01016                NaT 2018-01-01 09:19:00  2395.0  2413.95   \n",
       "\n",
       "       low    close  volume  open_interest  \n",
       "0  2408.90  2435.25   10281            NaN  \n",
       "1  2426.45  2439.00   13315            NaN  \n",
       "2  2422.10  2424.95    3760            NaN  \n",
       "3  2386.50  2395.00   11653            NaN  \n",
       "4  2394.70  2409.85    7744            NaN  "
      ]
     },
     "execution_count": 84,
     "metadata": {},
     "output_type": "execute_result"
    }
   ],
   "source": [
    "df.head()"
   ]
  },
  {
   "cell_type": "code",
   "execution_count": 85,
   "metadata": {},
   "outputs": [],
   "source": [
    "df = df[['datetime','open','high','low','close']]"
   ]
  },
  {
   "cell_type": "code",
   "execution_count": 86,
   "metadata": {},
   "outputs": [],
   "source": [
    "df.columns = ['Date','Open','High','Low','Close']"
   ]
  },
  {
   "cell_type": "code",
   "execution_count": 88,
   "metadata": {},
   "outputs": [],
   "source": [
    "df.to_csv('pinky_assignment_stock_market_prediction_dataset.csv', index =False)"
   ]
  }
 ],
 "metadata": {
  "kernelspec": {
   "display_name": "Python 3",
   "language": "python",
   "name": "python3"
  },
  "language_info": {
   "codemirror_mode": {
    "name": "ipython",
    "version": 3
   },
   "file_extension": ".py",
   "mimetype": "text/x-python",
   "name": "python",
   "nbconvert_exporter": "python",
   "pygments_lexer": "ipython3",
   "version": "3.6.5"
  }
 },
 "nbformat": 4,
 "nbformat_minor": 2
}
